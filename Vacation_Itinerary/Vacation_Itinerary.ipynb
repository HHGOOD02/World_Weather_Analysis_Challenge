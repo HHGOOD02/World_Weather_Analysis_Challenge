{
 "cells": [
  {
   "cell_type": "code",
   "execution_count": 28,
   "id": "7a4e9a87",
   "metadata": {},
   "outputs": [],
   "source": [
    "# Dependencies and Setup\n",
    "import pandas as pd\n",
    "import requests\n",
    "import gmaps\n",
    "import gmaps.datasets\n",
    "\n",
    "# Import API key\n",
    "from config import maps_api_key\n",
    "\n",
    "# Configure gmaps\n",
    "gmaps.configure(api_key=maps_api_key)"
   ]
  },
  {
   "cell_type": "code",
   "execution_count": 29,
   "id": "e45f5c3c",
   "metadata": {},
   "outputs": [
    {
     "data": {
      "text/html": [
       "<div>\n",
       "<style scoped>\n",
       "    .dataframe tbody tr th:only-of-type {\n",
       "        vertical-align: middle;\n",
       "    }\n",
       "\n",
       "    .dataframe tbody tr th {\n",
       "        vertical-align: top;\n",
       "    }\n",
       "\n",
       "    .dataframe thead th {\n",
       "        text-align: right;\n",
       "    }\n",
       "</style>\n",
       "<table border=\"1\" class=\"dataframe\">\n",
       "  <thead>\n",
       "    <tr style=\"text-align: right;\">\n",
       "      <th></th>\n",
       "      <th>City_ID</th>\n",
       "      <th>City</th>\n",
       "      <th>Country</th>\n",
       "      <th>Max Temp</th>\n",
       "      <th>Current Description</th>\n",
       "      <th>Latitude</th>\n",
       "      <th>Longitude</th>\n",
       "      <th>Hotel Name</th>\n",
       "    </tr>\n",
       "  </thead>\n",
       "  <tbody>\n",
       "    <tr>\n",
       "      <th>0</th>\n",
       "      <td>3</td>\n",
       "      <td>Castro</td>\n",
       "      <td>BR</td>\n",
       "      <td>53.58</td>\n",
       "      <td>few clouds</td>\n",
       "      <td>-24.79</td>\n",
       "      <td>-50.01</td>\n",
       "      <td>CHACARA BAILLY</td>\n",
       "    </tr>\n",
       "    <tr>\n",
       "      <th>1</th>\n",
       "      <td>4</td>\n",
       "      <td>Mar del Plata</td>\n",
       "      <td>AR</td>\n",
       "      <td>48.09</td>\n",
       "      <td>fog</td>\n",
       "      <td>-38.00</td>\n",
       "      <td>-57.56</td>\n",
       "      <td>Gran Hotel Mar del Plata</td>\n",
       "    </tr>\n",
       "    <tr>\n",
       "      <th>2</th>\n",
       "      <td>7</td>\n",
       "      <td>Ushuaia</td>\n",
       "      <td>AR</td>\n",
       "      <td>47.86</td>\n",
       "      <td>broken clouds</td>\n",
       "      <td>-54.80</td>\n",
       "      <td>-68.30</td>\n",
       "      <td>Albatross Hotel</td>\n",
       "    </tr>\n",
       "    <tr>\n",
       "      <th>3</th>\n",
       "      <td>9</td>\n",
       "      <td>Longyearbyen</td>\n",
       "      <td>SJ</td>\n",
       "      <td>44.44</td>\n",
       "      <td>scattered clouds</td>\n",
       "      <td>78.22</td>\n",
       "      <td>15.64</td>\n",
       "      <td>Radisson Blu Polar Hotel, Spitsbergen</td>\n",
       "    </tr>\n",
       "    <tr>\n",
       "      <th>4</th>\n",
       "      <td>11</td>\n",
       "      <td>Nanortalik</td>\n",
       "      <td>GL</td>\n",
       "      <td>43.34</td>\n",
       "      <td>overcast clouds</td>\n",
       "      <td>60.14</td>\n",
       "      <td>-45.24</td>\n",
       "      <td>Hotel Kap Farvel</td>\n",
       "    </tr>\n",
       "    <tr>\n",
       "      <th>...</th>\n",
       "      <td>...</td>\n",
       "      <td>...</td>\n",
       "      <td>...</td>\n",
       "      <td>...</td>\n",
       "      <td>...</td>\n",
       "      <td>...</td>\n",
       "      <td>...</td>\n",
       "      <td>...</td>\n",
       "    </tr>\n",
       "    <tr>\n",
       "      <th>188</th>\n",
       "      <td>620</td>\n",
       "      <td>Pangody</td>\n",
       "      <td>RU</td>\n",
       "      <td>40.23</td>\n",
       "      <td>overcast clouds</td>\n",
       "      <td>65.85</td>\n",
       "      <td>74.49</td>\n",
       "      <td>Elizaveta Shevchuk's House</td>\n",
       "    </tr>\n",
       "    <tr>\n",
       "      <th>189</th>\n",
       "      <td>623</td>\n",
       "      <td>Macamic</td>\n",
       "      <td>CA</td>\n",
       "      <td>53.31</td>\n",
       "      <td>overcast clouds</td>\n",
       "      <td>48.75</td>\n",
       "      <td>-79.00</td>\n",
       "      <td>Maison Tardif Enr. - Chambre à Macamic, QC</td>\n",
       "    </tr>\n",
       "    <tr>\n",
       "      <th>190</th>\n",
       "      <td>630</td>\n",
       "      <td>Rubtsovsk</td>\n",
       "      <td>RU</td>\n",
       "      <td>51.87</td>\n",
       "      <td>overcast clouds</td>\n",
       "      <td>51.50</td>\n",
       "      <td>81.25</td>\n",
       "      <td>Запросто</td>\n",
       "    </tr>\n",
       "    <tr>\n",
       "      <th>191</th>\n",
       "      <td>635</td>\n",
       "      <td>Guéret</td>\n",
       "      <td>FR</td>\n",
       "      <td>49.55</td>\n",
       "      <td>overcast clouds</td>\n",
       "      <td>46.17</td>\n",
       "      <td>1.87</td>\n",
       "      <td>Hôtel Restaurant Campanile Guéret</td>\n",
       "    </tr>\n",
       "    <tr>\n",
       "      <th>192</th>\n",
       "      <td>637</td>\n",
       "      <td>Mokobeng</td>\n",
       "      <td>BW</td>\n",
       "      <td>50.36</td>\n",
       "      <td>clear sky</td>\n",
       "      <td>-23.00</td>\n",
       "      <td>27.67</td>\n",
       "      <td>Omphile B. Molefhe</td>\n",
       "    </tr>\n",
       "  </tbody>\n",
       "</table>\n",
       "<p>193 rows × 8 columns</p>\n",
       "</div>"
      ],
      "text/plain": [
       "     City_ID           City Country  Max Temp Current Description  Latitude  \\\n",
       "0          3         Castro      BR     53.58          few clouds    -24.79   \n",
       "1          4  Mar del Plata      AR     48.09                 fog    -38.00   \n",
       "2          7        Ushuaia      AR     47.86       broken clouds    -54.80   \n",
       "3          9   Longyearbyen      SJ     44.44    scattered clouds     78.22   \n",
       "4         11     Nanortalik      GL     43.34     overcast clouds     60.14   \n",
       "..       ...            ...     ...       ...                 ...       ...   \n",
       "188      620        Pangody      RU     40.23     overcast clouds     65.85   \n",
       "189      623        Macamic      CA     53.31     overcast clouds     48.75   \n",
       "190      630      Rubtsovsk      RU     51.87     overcast clouds     51.50   \n",
       "191      635         Guéret      FR     49.55     overcast clouds     46.17   \n",
       "192      637       Mokobeng      BW     50.36           clear sky    -23.00   \n",
       "\n",
       "     Longitude                                  Hotel Name  \n",
       "0       -50.01                              CHACARA BAILLY  \n",
       "1       -57.56                    Gran Hotel Mar del Plata  \n",
       "2       -68.30                             Albatross Hotel  \n",
       "3        15.64       Radisson Blu Polar Hotel, Spitsbergen  \n",
       "4       -45.24                            Hotel Kap Farvel  \n",
       "..         ...                                         ...  \n",
       "188      74.49                  Elizaveta Shevchuk's House  \n",
       "189     -79.00  Maison Tardif Enr. - Chambre à Macamic, QC  \n",
       "190      81.25                                    Запросто  \n",
       "191       1.87           Hôtel Restaurant Campanile Guéret  \n",
       "192      27.67                          Omphile B. Molefhe  \n",
       "\n",
       "[193 rows x 8 columns]"
      ]
     },
     "execution_count": 29,
     "metadata": {},
     "output_type": "execute_result"
    }
   ],
   "source": [
    "# 1. Read the WeatherPy_vacation.csv into a DataFrame.\n",
    "vac_df = pd.read_csv(\"../Vacation_Search/WeatherPy_Vacation.csv\")\n",
    "vac_df"
   ]
  },
  {
   "cell_type": "code",
   "execution_count": 30,
   "id": "f418fe4d",
   "metadata": {},
   "outputs": [],
   "source": [
    "# 2. Using the template add the city name, the country code, the weather description and maximum temperature for the city.\n",
    "info_box_template = \"\"\"\n",
    "<dl>\n",
    "<dt>City</dt><dd>{City}</dd>\n",
    "<dt>Country</dt><dd>{Country}</dd>\n",
    "<dt>Current Weather </dt><dd> {Current Description} and {Max Temp} °F</dd>\n",
    "</dl>\n",
    "\"\"\"\n",
    "\n",
    "# 3a. Get the data from each row and add it to the formatting template and store the data in a list.\n",
    "hotel_data = [info_box_template.format(**row) for index, row in vac_df.iterrows()]\n",
    "\n",
    "# 3b. Get the latitude and longitude from each row and store in a new DataFrame.\n",
    "locations = vac_df[[\"Latitude\", \"Longitude\"]]"
   ]
  },
  {
   "cell_type": "code",
   "execution_count": 31,
   "id": "e7d70dd2",
   "metadata": {
    "scrolled": true
   },
   "outputs": [
    {
     "data": {
      "application/vnd.jupyter.widget-view+json": {
       "model_id": "75bff68cf20747a09b38c85f122b8e3e",
       "version_major": 2,
       "version_minor": 0
      },
      "text/plain": [
       "Figure(layout=FigureLayout(height='420px'))"
      ]
     },
     "metadata": {},
     "output_type": "display_data"
    }
   ],
   "source": [
    "# 4a. Add a marker layer for each city to the map.\n",
    "fig = gmaps.figure(center=(30.0, 31.0), zoom_level=1.5)\n",
    "marker_layer = gmaps.marker_layer(locations, info_box_content=hotel_data)\n",
    "fig.add_layer(marker_layer)\n",
    "\n",
    "# 4b. Display the figure\n",
    "fig"
   ]
  },
  {
   "cell_type": "code",
   "execution_count": 32,
   "id": "670a7135",
   "metadata": {},
   "outputs": [],
   "source": [
    "# From the map above pick 4 cities and create a vacation itinerary route to travel between the four cities. \n",
    "# 5. Create DataFrames for each city by filtering the 'vacation_df' using the loc method. \n",
    "# Hint: The starting and ending city should be the same city.\n",
    "start_df = vac_df.loc[vac_df[\"City\"] == \"Bariloche\"]\n",
    "first_df = vac_df.loc[vac_df[\"City\"] == \"Mar del Plata\"]\n",
    "second_df = vac_df.loc[vac_df[\"City\"] == \"Ushuaia\"]\n",
    "third_df = vac_df.loc[vac_df[\"City\"] == \"Río Gallegos\"]\n",
    "end_df = vac_df.loc[vac_df[\"City\"] == \"Bariloche\"]"
   ]
  },
  {
   "cell_type": "code",
   "execution_count": 33,
   "id": "5dd97980",
   "metadata": {},
   "outputs": [],
   "source": [
    "# 6. Get the latitude-longitude pairs as tuples from each city DataFrame using the to_numpy function and list indexing.\n",
    "begin = [tuple(i) for i in start_df[[\"Latitude\", \"Longitude\"]].to_numpy()][0]\n",
    "stpA =  [tuple(i) for i in first_df[[\"Latitude\", \"Longitude\"]].to_numpy()][0]\n",
    "stpB =  [tuple(i) for i in second_df[[\"Latitude\", \"Longitude\"]].to_numpy()][0]\n",
    "stpC =  [tuple(i) for i in third_df[[\"Latitude\", \"Longitude\"]].to_numpy()][0]\n",
    "end =  [tuple(i) for i in end_df[[\"Latitude\", \"Longitude\"]].to_numpy()][0]"
   ]
  },
  {
   "cell_type": "code",
   "execution_count": 34,
   "id": "0c5ed682",
   "metadata": {},
   "outputs": [
    {
     "data": {
      "application/vnd.jupyter.widget-view+json": {
       "model_id": "12815f5d246847a082df312147af1da7",
       "version_major": 2,
       "version_minor": 0
      },
      "text/plain": [
       "Figure(layout=FigureLayout(height='420px'))"
      ]
     },
     "metadata": {},
     "output_type": "display_data"
    }
   ],
   "source": [
    "# 7. Create a direction layer map using the start and end latitude-longitude pairs,\n",
    "# and stop1, stop2, and stop3 as the waypoints. The travel_mode should be \"DRIVING\", \"BICYCLING\", or \"WALKING\".\n",
    "fig = gmaps.figure()\n",
    "\n",
    "route_plan = gmaps.directions_layer(\n",
    "        begin, end, waypoints = [stpA, stpB, stpC],\n",
    "        travel_mode = \"DRIVING\")\n",
    "\n",
    "fig.add_layer(route_plan)\n",
    "fig"
   ]
  },
  {
   "cell_type": "code",
   "execution_count": 17,
   "id": "873d6d13",
   "metadata": {},
   "outputs": [],
   "source": [
    "# 8. To create a marker layer map between the four cities.\n",
    "#  Combine the four city DataFrames into one DataFrame using the concat() function.\n",
    "itinerary_df = pd.concat([start_df, first_df, second_df, third_df], ignore_index = True)"
   ]
  },
  {
   "cell_type": "code",
   "execution_count": 35,
   "id": "a496aefb",
   "metadata": {},
   "outputs": [],
   "source": [
    "# 9 Using the template add city name, the country code, the weather description and maximum temperature for the city. \n",
    "info_box_template = \"\"\"\n",
    "<dl>\n",
    "<dt>City</dt><dd>{City}</dd>\n",
    "<dt>Country</dt><dd>{Country}</dd>\n",
    "<dt>Hotel Name</dt><dd>{Hotel Name}</dd>\n",
    "<dt>Current Weather </dt><dd> {Current Description} and {Max Temp} °F</dd>\n",
    "</dl>\n",
    "\n",
    "\"\"\"\n",
    "\n",
    "# 10a Get the data from each row and add it to the formatting template and store the data in a list.\n",
    "hotel_data = [info_box_template.format(**row) for index, row in itinerary_df.iterrows()]\n",
    "\n",
    "# 10b. Get the latitude and longitude from each row and store in a new DataFrame.\n",
    "locations = itinerary_df[[\"Latitude\", \"Longitude\"]]"
   ]
  },
  {
   "cell_type": "code",
   "execution_count": 37,
   "id": "a3df971a",
   "metadata": {},
   "outputs": [
    {
     "data": {
      "application/vnd.jupyter.widget-view+json": {
       "model_id": "a5a09d531a8f4f2d94f541831e868cc6",
       "version_major": 2,
       "version_minor": 0
      },
      "text/plain": [
       "Figure(layout=FigureLayout(height='420px'))"
      ]
     },
     "metadata": {},
     "output_type": "display_data"
    }
   ],
   "source": [
    "# 11a. Add a marker layer for each city to the map.\n",
    "fig = gmaps.figure(center=(30.0, 31.0), zoom_level=1.5)\n",
    "marker_layer = gmaps.marker_layer(locations, info_box_content=hotel_data)\n",
    "fig.add_layer(marker_layer)\n",
    "\n",
    "# 11b. Display the figure\n",
    "fig\n",
    "\n",
    "#Not sure why, but even after regenerating my google api keys and verifying a bunch of times that things are all where they ought to be,\n",
    "#I'm still getting InvalidKeyMapError prompts, which I suppose just mean I won't be getting credit for those. I'm sure it's something I did,\n",
    "#but I just haven't got the slightest clue what it might be."
   ]
  }
 ],
 "metadata": {
  "kernelspec": {
   "display_name": "PythonData",
   "language": "python",
   "name": "pythondata"
  },
  "language_info": {
   "codemirror_mode": {
    "name": "ipython",
    "version": 3
   },
   "file_extension": ".py",
   "mimetype": "text/x-python",
   "name": "python",
   "nbconvert_exporter": "python",
   "pygments_lexer": "ipython3",
   "version": "3.9.7"
  }
 },
 "nbformat": 4,
 "nbformat_minor": 5
}
